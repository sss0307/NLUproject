{
 "cells": [
  {
   "cell_type": "code",
   "execution_count": 1,
   "metadata": {},
   "outputs": [],
   "source": [
    "# !pip3 install fasttext --quiet\n",
    "# !pip install langdetect --quiet"
   ]
  },
  {
   "cell_type": "code",
   "execution_count": 46,
   "metadata": {},
   "outputs": [
    {
     "name": "stderr",
     "output_type": "stream",
     "text": [
      "Warning : `load_model` does not return WordVectorModel or SupervisedModel any more, but a `FastText` object which is very similar.\n"
     ]
    }
   ],
   "source": [
    "import os, sys, numpy as np, pandas as pd, matplotlib.pyplot as plt\n",
    "import torch\n",
    "from torch import nn\n",
    "import fasttext, fasttext.util\n",
    "from sklearn.model_selection import train_test_split\n",
    "from torchsummary import summary\n",
    "from tqdm.auto import tqdm\n",
    "# from langdetect import detect\n",
    "\n",
    "os.chdir('/Users/siva/Downloads')\n",
    "ft = fasttext.load_model('wiki/wiki.hi.bin')"
   ]
  },
  {
   "cell_type": "code",
   "execution_count": null,
   "metadata": {},
   "outputs": [],
   "source": [
    "#Preprocess Text\n",
    "\n",
    "# hasoc=pd.read_csv('/content/hindi_dataset.tsv',sep='\\t')\n",
    "# hasoc=hasoc[['text','task_1']]\n",
    "# hasoc['preprocessed_text']=list(range(len(hasoc)))\n",
    "# hasoc.head()\n",
    "\n",
    "# for idx in range(2000,len(hasoc)):\n",
    "#   sent=hasoc.iloc[idx].text.split()\n",
    "#   new=[]\n",
    "#   for word in sent:\n",
    "#     try:\n",
    "#       if '#' in word or word.isnumeric() or detect(word)=='en':\n",
    "#         continue\n",
    "#       elif detect(word)=='hi' or detect(word)=='ne' or detect(word)=='mr':\n",
    "#         new.append(word)\n",
    "#     except:\n",
    "#       continue\n",
    "#   if len(new)>0:\n",
    "#     preprocessed_sent=' '.join(new)\n",
    "#     hasoc['preprocessed_text'][idx]=preprocessed_sent\n",
    "\n",
    "#   if idx%100==0:\n",
    "#     print(idx)\n",
    "\n",
    "# hasoc.to_csv('/content/hindi2.csv')"
   ]
  },
  {
   "cell_type": "code",
   "execution_count": 273,
   "metadata": {},
   "outputs": [
    {
     "data": {
      "text/html": [
       "<div>\n",
       "<style scoped>\n",
       "    .dataframe tbody tr th:only-of-type {\n",
       "        vertical-align: middle;\n",
       "    }\n",
       "\n",
       "    .dataframe tbody tr th {\n",
       "        vertical-align: top;\n",
       "    }\n",
       "\n",
       "    .dataframe thead th {\n",
       "        text-align: right;\n",
       "    }\n",
       "</style>\n",
       "<table border=\"1\" class=\"dataframe\">\n",
       "  <thead>\n",
       "    <tr style=\"text-align: right;\">\n",
       "      <th></th>\n",
       "      <th>Unnamed: 0</th>\n",
       "      <th>text</th>\n",
       "      <th>preprocessed_text</th>\n",
       "      <th>task_1</th>\n",
       "      <th>HOF</th>\n",
       "      <th>NOT</th>\n",
       "    </tr>\n",
       "  </thead>\n",
       "  <tbody>\n",
       "    <tr>\n",
       "      <th>2509</th>\n",
       "      <td>2509</td>\n",
       "      <td>ये साला धर्म है या फिर रंडी भड़वों का कोठा।</td>\n",
       "      <td>ये साला धर्म है या फिर रंडी भड़वों का कोठा।</td>\n",
       "      <td>HOF</td>\n",
       "      <td>1</td>\n",
       "      <td>0</td>\n",
       "    </tr>\n",
       "    <tr>\n",
       "      <th>332</th>\n",
       "      <td>332</td>\n",
       "      <td>एक जवान जो अपना घर, बीवी, बच्चे छोड़ के सीमापर...</td>\n",
       "      <td>एक जवान जो अपना घर, बीवी, बच्चे छोड़ के सीमापर...</td>\n",
       "      <td>NOT</td>\n",
       "      <td>0</td>\n",
       "      <td>1</td>\n",
       "    </tr>\n",
       "    <tr>\n",
       "      <th>1113</th>\n",
       "      <td>1113</td>\n",
       "      <td>LIVE: PM Shri @narendramodi addresses the Indi...</td>\n",
       "      <td>1113</td>\n",
       "      <td>NOT</td>\n",
       "      <td>0</td>\n",
       "      <td>1</td>\n",
       "    </tr>\n",
       "    <tr>\n",
       "      <th>751</th>\n",
       "      <td>751</td>\n",
       "      <td>रंडी अंजनवा ओम मोदी नॉट कश्यप ,भड़वे सारदाना, ...</td>\n",
       "      <td>रंडी अंजनवा ओम मोदी नॉट कश्यप ,भड़वे सारदाना, ...</td>\n",
       "      <td>HOF</td>\n",
       "      <td>1</td>\n",
       "      <td>0</td>\n",
       "    </tr>\n",
       "    <tr>\n",
       "      <th>720</th>\n",
       "      <td>720</td>\n",
       "      <td>ये इतनी बडी रंडी है की इसको कितना भी गाली दो इ...</td>\n",
       "      <td>ये इतनी बडी रंडी है की इसको कितना भी गाली दो इ...</td>\n",
       "      <td>HOF</td>\n",
       "      <td>1</td>\n",
       "      <td>0</td>\n",
       "    </tr>\n",
       "  </tbody>\n",
       "</table>\n",
       "</div>"
      ],
      "text/plain": [
       "      Unnamed: 0                                               text  \\\n",
       "2509        2509      ये साला धर्म है या फिर रंडी भड़वों का कोठा।     \n",
       "332          332  एक जवान जो अपना घर, बीवी, बच्चे छोड़ के सीमापर...   \n",
       "1113        1113  LIVE: PM Shri @narendramodi addresses the Indi...   \n",
       "751          751  रंडी अंजनवा ओम मोदी नॉट कश्यप ,भड़वे सारदाना, ...   \n",
       "720          720  ये इतनी बडी रंडी है की इसको कितना भी गाली दो इ...   \n",
       "\n",
       "                                      preprocessed_text task_1  HOF  NOT  \n",
       "2509        ये साला धर्म है या फिर रंडी भड़वों का कोठा।    HOF    1    0  \n",
       "332   एक जवान जो अपना घर, बीवी, बच्चे छोड़ के सीमापर...    NOT    0    1  \n",
       "1113                                               1113    NOT    0    1  \n",
       "751   रंडी अंजनवा ओम मोदी नॉट कश्यप ,भड़वे सारदाना, ...    HOF    1    0  \n",
       "720   ये इतनी बडी रंडी है की इसको कितना भी गाली दो इ...    HOF    1    0  "
      ]
     },
     "execution_count": 273,
     "metadata": {},
     "output_type": "execute_result"
    }
   ],
   "source": [
    "hasoc=pd.read_csv('hindi.csv')\n",
    "hasoc=hasoc\n",
    "hasoc=hasoc.join(pd.get_dummies(hasoc['task_1'])) # one hot encoding\n",
    "train,val=train_test_split(hasoc,train_size=0.8,test_size=0.2,random_state=42) # train test split\n",
    "train.head()"
   ]
  },
  {
   "cell_type": "code",
   "execution_count": 308,
   "metadata": {},
   "outputs": [],
   "source": [
    "class SentimentAnalyser(nn.Module):\n",
    "    def __init__(self):\n",
    "        super().__init__()\n",
    "        self.model=nn.Sequential(\n",
    "            nn.Linear(300,200),\n",
    "            nn.Linear(200,100),\n",
    "            nn.Linear(100,1),\n",
    "        )\n",
    "        self.loss=nn.BCEWithLogitsLoss()\n",
    "    def forward(self,inp,target=None):\n",
    "        pred=self.model(inp)\n",
    "        if target!=None:\n",
    "            loss=self.loss(pred,target)\n",
    "            return loss,pred \n",
    "        return pred "
   ]
  },
  {
   "cell_type": "code",
   "execution_count": 306,
   "metadata": {},
   "outputs": [],
   "source": [
    "\n",
    "data=train.iloc[10]\n",
    "sent=data.preprocessed_text.split()\n",
    "target=data.HOF\n",
    "l=len(sent)\n",
    "\n",
    "#sentence embedding\n",
    "sentence_embedding=np.zeros((300))\n",
    "for word in sent:\n",
    "    sentence_embedding+=ft.get_word_vector(word)\n",
    "sentence_embedding/=l\n",
    "\n",
    "sentence_embedding,target=torch.Tensor(sentence_embedding),torch.Tensor([target])"
   ]
  },
  {
   "cell_type": "code",
   "execution_count": 323,
   "metadata": {},
   "outputs": [
    {
     "data": {
      "text/plain": [
       "[\"'चुप\", 'कर', \"भोसडीके!'\"]"
      ]
     },
     "execution_count": 323,
     "metadata": {},
     "output_type": "execute_result"
    }
   ],
   "source": [
    "sent"
   ]
  },
  {
   "cell_type": "code",
   "execution_count": 325,
   "metadata": {},
   "outputs": [
    {
     "data": {
      "text/plain": [
       "array([-1.35438010e-01,  1.01094842e-01, -4.78702150e-02, -1.28502240e-02,\n",
       "        1.06755190e-01,  1.12354048e-01,  2.83279363e-02, -8.70371517e-03,\n",
       "        1.27050150e-02,  1.20904490e-01,  9.63831171e-02, -4.45969665e-04,\n",
       "       -5.90573857e-03, -5.45125268e-02, -3.38202007e-02, -7.31792679e-05,\n",
       "        2.54890211e-02, -8.79362877e-03,  6.28464073e-02,  7.66239464e-02,\n",
       "       -2.27214247e-02,  5.14726192e-02, -3.92290391e-02,  1.65187970e-01,\n",
       "        1.81329057e-01,  4.21750732e-02, -3.43067124e-02,  9.39545408e-02,\n",
       "        1.32944092e-01,  7.66980797e-02,  2.48610601e-02,  8.15354735e-02,\n",
       "       -4.76057641e-02, -1.03275694e-01,  1.05440527e-01, -8.73629078e-02,\n",
       "        6.00927994e-02,  2.03555394e-02,  1.40817650e-02,  9.80171189e-02,\n",
       "       -4.34395894e-02,  7.38455215e-03,  2.34328844e-02,  2.38059070e-02,\n",
       "        2.59352233e-02, -6.71883970e-02,  6.68056011e-02, -5.85667193e-02,\n",
       "        9.15570706e-02, -5.95624596e-02,  1.11877866e-01,  4.49507385e-02,\n",
       "        2.63480539e-03, -6.01092279e-02,  4.21707109e-02, -5.42966947e-02,\n",
       "        1.71008985e-02,  1.07924134e-01,  1.02642775e-01,  8.48452449e-02,\n",
       "        1.13945352e-02, -1.35447383e-01, -2.86674835e-02,  1.62016097e-02,\n",
       "        5.93657047e-02, -6.17068075e-02, -1.22553781e-02,  7.45399436e-03,\n",
       "        5.62277324e-02, -1.02621809e-01, -5.61568327e-02, -1.92880109e-02,\n",
       "        4.06863540e-02, -3.69473509e-02,  6.47218674e-02,  1.80750951e-01,\n",
       "       -1.91457961e-02, -2.80795079e-02, -4.15878603e-03, -2.94978861e-02,\n",
       "       -6.23794161e-02,  2.03452501e-02, -2.72742882e-02, -7.00500840e-03,\n",
       "        2.35614423e-02, -2.59853527e-02, -1.40873596e-01, -1.25038773e-01,\n",
       "       -2.24811863e-02, -2.64457557e-02, -2.17752270e-02, -2.03983374e-02,\n",
       "        1.83067881e-02, -2.67878901e-02, -7.04118535e-02, -6.44373074e-02,\n",
       "       -2.98031140e-02,  4.71124761e-02,  4.84229177e-02,  9.58731805e-04,\n",
       "        4.90283556e-02, -9.09865350e-02,  8.79047811e-02,  4.18239050e-02,\n",
       "        6.19733371e-02,  2.31595319e-02, -5.26584946e-02,  4.77311015e-02,\n",
       "       -1.88974869e-02,  9.45356861e-02,  8.91543403e-02, -1.46712689e-02,\n",
       "        6.26425967e-02, -1.16543949e-01,  7.28687197e-02,  1.98720507e-02,\n",
       "        9.10046920e-02, -4.55665030e-02, -4.75569628e-02,  1.76352784e-01,\n",
       "        1.10018216e-01, -5.07829562e-02,  4.44382802e-02,  6.60729920e-03,\n",
       "       -6.97306022e-02, -1.07124008e-01,  5.03539182e-02,  3.61869410e-02,\n",
       "       -8.88721272e-03, -1.48503244e-01,  1.05452865e-01,  9.78340060e-02,\n",
       "       -4.02505845e-02, -6.58351332e-02,  3.61362621e-02, -1.08725749e-01,\n",
       "       -1.13224685e-01,  1.68216042e-02, -9.98873040e-02,  6.95211887e-02,\n",
       "       -3.86389643e-02, -3.35733593e-02,  8.44797567e-02,  1.47368416e-01,\n",
       "        1.51635900e-01, -2.71378290e-02,  1.09970763e-01,  3.95884272e-03,\n",
       "       -8.90503526e-02, -6.95162490e-02, -4.28369530e-02,  6.58467487e-02,\n",
       "        8.26404765e-02,  4.58002239e-02, -4.90464941e-02, -1.05648421e-01,\n",
       "       -8.49115383e-03,  8.73019844e-02,  1.71320178e-02,  5.35965487e-02,\n",
       "        2.91972477e-02,  5.26775047e-03, -5.04019484e-02,  1.14756837e-01,\n",
       "        5.43922931e-03,  1.09877966e-01,  2.66999449e-03,  6.18039630e-02,\n",
       "        1.14127144e-01, -1.30060576e-02, -2.73282733e-02,  7.80783687e-03,\n",
       "       -2.32238900e-02, -1.31611273e-01,  1.69505566e-01, -5.24489731e-02,\n",
       "        4.78722863e-02,  1.52518339e-02,  4.45280299e-02,  2.06298660e-02,\n",
       "        2.38649752e-02,  1.47933867e-02,  1.65729262e-02, -8.85384753e-02,\n",
       "       -1.30428895e-02,  7.09370747e-02,  1.00324146e-01, -2.23711431e-02,\n",
       "       -9.33367088e-02, -5.80781698e-03,  3.93524719e-03, -1.66905634e-02,\n",
       "        3.25193480e-02, -6.80212528e-02,  1.12924792e-01, -1.27360806e-01,\n",
       "        1.48022640e-02,  5.59985749e-02,  3.94655503e-02, -2.38556601e-02,\n",
       "       -2.13444028e-02, -5.04802652e-02,  7.10156327e-03,  9.07360092e-02,\n",
       "       -2.35193744e-02, -9.11299139e-02, -1.43488228e-01,  1.02963395e-01,\n",
       "        4.92290072e-02,  1.03116207e-01, -1.38894767e-01,  6.65993541e-02,\n",
       "        1.65659785e-01,  9.21874344e-02,  8.22072383e-03,  5.88443056e-02,\n",
       "        6.24545813e-02, -1.12186454e-01, -3.72751663e-03,  8.87651443e-02,\n",
       "       -8.52406248e-02,  3.40538770e-02,  2.40898523e-02,  5.41787744e-02,\n",
       "        9.34219174e-03, -6.69498071e-02, -3.42456624e-02, -9.30430815e-02,\n",
       "        2.42787991e-02, -1.96781708e-03,  2.19554994e-02,  1.31966481e-02,\n",
       "       -9.86937201e-04, -3.98463989e-03,  5.77883795e-03,  1.90852527e-02,\n",
       "        1.58468440e-01,  7.88712278e-02, -2.48115752e-02, -1.32629611e-02,\n",
       "       -2.07009446e-02,  9.71964970e-02, -5.85928187e-03, -5.62091544e-02,\n",
       "        6.51074797e-02, -4.82055508e-02,  5.73396794e-02, -4.73793857e-02,\n",
       "        4.43123095e-02,  3.27330753e-02,  4.82157711e-03, -6.71021640e-02,\n",
       "       -5.44272887e-04, -5.79212904e-02, -6.30034460e-03,  1.67312678e-02,\n",
       "       -5.14879357e-03,  4.77004908e-02,  4.37047258e-02, -8.96601900e-02,\n",
       "        9.26033631e-02, -1.66317318e-02,  4.32173014e-02, -1.56698725e-03,\n",
       "        3.77067141e-02,  7.89641887e-02, -3.50579643e-03,  4.62894049e-03,\n",
       "        4.48367931e-02, -7.36575052e-02,  7.17386557e-03,  9.94384587e-02,\n",
       "        1.68629852e-03, -6.12420514e-02,  7.34227374e-02, -1.97316166e-02,\n",
       "        5.85987754e-02,  2.07568742e-02,  3.34131420e-02, -2.80451588e-02,\n",
       "        7.20000491e-02,  4.55699526e-02, -8.69086012e-03,  4.20441367e-02,\n",
       "       -6.60944134e-02,  1.01294637e-01, -6.31372035e-02,  6.51551113e-02,\n",
       "       -1.31340809e-02, -3.07958666e-02, -1.78228468e-01, -9.97293293e-02,\n",
       "       -4.68216278e-02,  3.72352218e-03, -1.32539272e-02,  7.22417980e-02,\n",
       "       -6.94580078e-02, -9.76261571e-02, -1.66511297e-01, -8.41007903e-02],\n",
       "      dtype=float32)"
      ]
     },
     "execution_count": 325,
     "metadata": {},
     "output_type": "execute_result"
    }
   ],
   "source": [
    "ft.get_word_vector(sent[2])"
   ]
  },
  {
   "cell_type": "code",
   "execution_count": 313,
   "metadata": {},
   "outputs": [],
   "source": [
    "def trainarc(model,df,opt):\n",
    "\n",
    "    for idx in range(len(df)):\n",
    "        data=df.iloc[idx]\n",
    "        if data.preprocessed_text.isnumeric():\n",
    "            continue\n",
    "        sent=data.preprocessed_text.split()\n",
    "        target=data.HOF\n",
    "        l=len(sent)\n",
    "\n",
    "        #sentence embedding\n",
    "        sentence_embedding=np.zeros((300))\n",
    "        for word in sent:\n",
    "            sentence_embedding+=ft.get_word_vector(word)\n",
    "        sentence_embedding/=l\n",
    "\n",
    "        sentence_embedding,target=torch.Tensor(sentence_embedding),torch.Tensor([target])\n",
    "\n",
    "        l,_=model(sentence_embedding,target)\n",
    "        opt.zero_grad()\n",
    "        l.backward()\n",
    "        opt.step()\n",
    "\n",
    "    return l"
   ]
  },
  {
   "cell_type": "code",
   "execution_count": 317,
   "metadata": {},
   "outputs": [
    {
     "name": "stdout",
     "output_type": "stream",
     "text": [
      "=================================================================\n",
      "Layer (type:depth-idx)                   Param #\n",
      "=================================================================\n",
      "├─Sequential: 1-1                        --\n",
      "|    └─Linear: 2-1                       60,200\n",
      "|    └─Linear: 2-2                       20,100\n",
      "|    └─Linear: 2-3                       1,010\n",
      "|    └─Linear: 2-4                       11\n",
      "├─BCEWithLogitsLoss: 1-2                 --\n",
      "=================================================================\n",
      "Total params: 81,321\n",
      "Trainable params: 81,321\n",
      "Non-trainable params: 0\n",
      "=================================================================\n"
     ]
    },
    {
     "data": {
      "text/plain": [
       "=================================================================\n",
       "Layer (type:depth-idx)                   Param #\n",
       "=================================================================\n",
       "├─Sequential: 1-1                        --\n",
       "|    └─Linear: 2-1                       60,200\n",
       "|    └─Linear: 2-2                       20,100\n",
       "|    └─Linear: 2-3                       1,010\n",
       "|    └─Linear: 2-4                       11\n",
       "├─BCEWithLogitsLoss: 1-2                 --\n",
       "=================================================================\n",
       "Total params: 81,321\n",
       "Trainable params: 81,321\n",
       "Non-trainable params: 0\n",
       "================================================================="
      ]
     },
     "execution_count": 317,
     "metadata": {},
     "output_type": "execute_result"
    }
   ],
   "source": [
    "model=SentimentAnalyser()\n",
    "summary(model,input_size=(300))"
   ]
  },
  {
   "cell_type": "code",
   "execution_count": 314,
   "metadata": {},
   "outputs": [
    {
     "data": {
      "application/vnd.jupyter.widget-view+json": {
       "model_id": "605e9c618a104a6f84765b0c9c86cd81",
       "version_major": 2,
       "version_minor": 0
      },
      "text/plain": [
       "  0%|          | 0/5 [00:00<?, ?it/s]"
      ]
     },
     "metadata": {},
     "output_type": "display_data"
    },
    {
     "name": "stdout",
     "output_type": "stream",
     "text": [
      "tensor(0.2396, grad_fn=<BinaryCrossEntropyWithLogitsBackward0>)\n",
      "tensor(0.1572, grad_fn=<BinaryCrossEntropyWithLogitsBackward0>)\n",
      "tensor(0.1305, grad_fn=<BinaryCrossEntropyWithLogitsBackward0>)\n",
      "tensor(0.1238, grad_fn=<BinaryCrossEntropyWithLogitsBackward0>)\n",
      "tensor(0.1121, grad_fn=<BinaryCrossEntropyWithLogitsBackward0>)\n",
      "[0.23962344229221344, 0.15720267593860626, 0.13050588965415955, 0.12382008135318756, 0.1120721623301506]\n"
     ]
    }
   ],
   "source": [
    "opt=torch.optim.Adam(model.parameters(),lr=0.001)\n",
    "epochs=5\n",
    "trainloss_oe=[]\n",
    "\n",
    "for epoch in tqdm(range(epochs)):\n",
    "    loss=trainarc(model,train,opt)\n",
    "    trainloss_oe.append(float(loss))\n",
    "    print(loss)  \n",
    "\n",
    "print(trainloss_oe)  "
   ]
  },
  {
   "cell_type": "code",
   "execution_count": 315,
   "metadata": {},
   "outputs": [],
   "source": [
    "output={'target':[],'pred':[]}\n",
    "\n",
    "for idx in range(len(val)):\n",
    "    test_data=val.iloc[idx]\n",
    "    if test_data.preprocessed_text.isnumeric():\n",
    "        continue\n",
    "    s=test_data.preprocessed_text.split()\n",
    "    l=len(s)\n",
    "    t=test_data.HOF\n",
    "\n",
    "    #sentence embedding\n",
    "    sentence_embedding=np.zeros((300))\n",
    "    for word in s:\n",
    "        sentence_embedding+=ft.get_word_vector(word)\n",
    "    sentence_embedding/=l\n",
    "\n",
    "    sentence_embedding,target=torch.Tensor(sentence_embedding),torch.Tensor([t])\n",
    "    l,p=model(sentence_embedding,target)\n",
    "    output['target'].append(t)\n",
    "    output['pred'].append(float(p))"
   ]
  },
  {
   "cell_type": "code",
   "execution_count": 316,
   "metadata": {},
   "outputs": [
    {
     "name": "stdout",
     "output_type": "stream",
     "text": [
      "Confusion matrix [[309  94]\n",
      " [100 374]]\n",
      "Accuracy: 0.7787913340935005\n",
      "Precision: 0.7991452991452992\n",
      "Recall: 0.7890295358649789\n"
     ]
    }
   ],
   "source": [
    "from sklearn.metrics import confusion_matrix\n",
    "\n",
    "def calculate_metrics(true_values, predicted_values):\n",
    "    \n",
    "    cm=confusion_matrix(true_values, predicted_values)\n",
    "    tn, fp, fn, tp = cm.ravel()\n",
    "\n",
    "    accuracy = (tp + tn) / (tp + tn + fp + fn)\n",
    "    precision = tp / (tp + fp)\n",
    "    recall = tp / (tp + fn)\n",
    "    return cm, accuracy, precision, recall\n",
    "\n",
    "\n",
    "true_values = output['target']\n",
    "predicted_values = list(map(lambda x: 0 if x < 0 else 1, output['pred']))\n",
    "\n",
    "cm, accuracy, precision, recall = calculate_metrics(true_values, predicted_values)\n",
    "print('Confusion matrix', cm)\n",
    "print(\"Accuracy:\", accuracy)\n",
    "print(\"Precision:\", precision)\n",
    "print(\"Recall:\", recall)"
   ]
  },
  {
   "cell_type": "code",
   "execution_count": 319,
   "metadata": {},
   "outputs": [
    {
     "data": {
      "text/plain": [
       "<AxesSubplot:>"
      ]
     },
     "execution_count": 319,
     "metadata": {},
     "output_type": "execute_result"
    },
    {
     "data": {
      "image/png": "[encoded data removed]",
      "text/plain": [
       "<Figure size 432x288 with 2 Axes>"
      ]
     },
     "metadata": {
      "needs_background": "light"
     },
     "output_type": "display_data"
    }
   ],
   "source": [
    "import seaborn as sns\n",
    "sns.heatmap(cm,annot=True)"
   ]
  },
  {
   "cell_type": "code",
   "execution_count": 321,
   "metadata": {},
   "outputs": [
    {
     "data": {
      "text/plain": [
       "[<matplotlib.lines.Line2D at 0x7fc6cbd37100>]"
      ]
     },
     "execution_count": 321,
     "metadata": {},
     "output_type": "execute_result"
    },
    {
     "data": {
      "image/png": "[encoded data removed]",
      "text/plain": [
       "<Figure size 432x288 with 1 Axes>"
      ]
     },
     "metadata": {
      "needs_background": "light"
     },
     "output_type": "display_data"
    }
   ],
   "source": [
    "plt.plot(trainloss_oe)"
   ]
  },
  {
   "cell_type": "code",
   "execution_count": null,
   "metadata": {},
   "outputs": [],
   "source": [
    "[0.0, 0.0, 0.0, 119.69122314453125, 47.00691223144531]\n",
    "[2.3695321083068848, 5.3309149742126465, 18.231409072875977, 62.57204818725586, 0.0, 0.0, 0.0, 56.467281341552734, 0.0, 0.0]\n",
    "[0.09590184688568115, 0.06789319217205048, 0.06132493540644646]\n",
    "\n",
    "[0.23962344229221344, 0.15720267593860626, 0.13050588965415955, 0.12382008135318756, 0.1120721623301506]"
   ]
  }
 ],
 "metadata": {
  "kernelspec": {
   "display_name": "Python 3",
   "language": "python",
   "name": "python3"
  },
  "language_info": {
   "codemirror_mode": {
    "name": "ipython",
    "version": 3
   },
   "file_extension": ".py",
   "mimetype": "text/x-python",
   "name": "python",
   "nbconvert_exporter": "python",
   "pygments_lexer": "ipython3",
   "version": "3.8.8"
  }
 },
 "nbformat": 4,
 "nbformat_minor": 2
}
